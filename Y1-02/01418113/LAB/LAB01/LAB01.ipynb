{
 "cells": [
  {
   "cell_type": "code",
   "execution_count": null,
   "metadata": {},
   "outputs": [],
   "source": [
    "from IPython.core.display import HTML\n",
    "\n",
    "def css_stylesheet():\n",
    "    styles = open(\"../\")"
   ]
  },
  {
   "cell_type": "markdown",
   "metadata": {},
   "source": [
    "# LAB01\n",
    "\n",
    "01418113-LAB, 2021-12-01\n",
    "\n",
    "- [x] 2021-12-03"
   ]
  },
  {
   "cell_type": "markdown",
   "metadata": {},
   "source": [
    "## 01 คอมพิวเตอร์ทำงาน\n",
    "\n",
    "---\n",
    "\n",
    "**คอมพิวเตอร์ทำงาน**\n",
    "\n",
    "จงเขียนโปรแกรมเพื่อแสดงผลเวลาที่เครื่องคอมพิวเตอร์ทำงานในรูปของจำนวนวัน ชั่วโมง และนาที ตามลำดับ (ไม่ต้องคำนึง)\n",
    "\n",
    "เมื่อตัวแปร `computer_time` เก็บค่าจำนวนนาทีที่เครื่องคอมพิวเตอร์ทำงาน\n",
    "\n",
    "### ตัวอย่างผลลัพธ์เมื่อ `computer_time` มีค่า 785\n",
    "\n",
    "```\n",
    "It is 0 days 13 hours and 5 minutes.\n",
    "```\n",
    "\n",
    "อธิบาย: คอมพิวเตอร์ทำงาน 785 นาที เท่ากับ 0 วัน 13 ชั่วโมง 5 นาที\n",
    "    \n",
    "### ตัวอย่างผลลัพธ์เมื่อ `computer_time` มีค่า 1678\n",
    "\n",
    "```\n",
    "It is 1 days 3 hours and 58 minutes.\n",
    "```\n",
    "\n",
    "อธิบาย: คอมพิวเตอร์ทำงาน 1678 นาที เท่ากับ 1 วัน 3 ชั่วโมง 58 นาที\n",
    "\n",
    "```c\n",
    "#include<stdio.h>\n",
    "void main() {\n",
    "   int computer_time = 785;  // ในโปรแกรมตรวจอาจเปลี่ยนค่าของตัวแปรนี้ แต่นิสิตไม่ต้องเปลี่ยนค่าของตัวแปรนี้\n",
    "/*\n",
    " *\n",
    " *\n",
    " *\n",
    " *\n",
    " *\n",
    " *\n",
    " 8 */\n",
    "}\n",
    "```"
   ]
  }
 ],
 "metadata": {
  "kernelspec": {
   "display_name": "Python 3 (ipykernel)",
   "language": "python",
   "name": "python3"
  },
  "language_info": {
   "codemirror_mode": {
    "name": "ipython",
    "version": 3
   },
   "file_extension": ".py",
   "mimetype": "text/x-python",
   "name": "python",
   "nbconvert_exporter": "python",
   "pygments_lexer": "ipython3",
   "version": "3.9.10"
  }
 },
 "nbformat": 4,
 "nbformat_minor": 4
}
